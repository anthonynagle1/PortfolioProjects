{
 "cells": [
  {
   "cell_type": "markdown",
   "metadata": {},
   "source": [
    "# Cleaning US Census Data"
   ]
  },
  {
   "cell_type": "markdown",
   "metadata": {},
   "source": [
    "You just got hired as a Data Analyst at the Census Bureau, which collects census data and creates interesting visualizations and insights from it.\n",
    "\n",
    "The person who had your job before you left you all the data they had for the most recent census. It is in multiple `csv` files. They didn't use pandas, they would just look through these `csv` files manually whenever they wanted to find something. Sometimes they would copy and paste certain numbers into Excel to make charts.\n",
    "\n",
    "The thought of it makes you shiver. This is not scalable or repeatable.\n",
    "\n",
    "Your boss wants you to make some scatterplots and histograms by the end of the day. Can you get this data into `pandas` and into reasonable shape so that you can make these histograms?"
   ]
  },
  {
   "cell_type": "markdown",
   "metadata": {},
   "source": [
    "## Inspect the Data!"
   ]
  },
  {
   "cell_type": "markdown",
   "metadata": {},
   "source": [
    "1. The first visualization your boss wants you to make is a scatterplot that shows average income in a state vs proportion of women in that state.\n",
    "\n",
    "   Open some of the census `csv` files that came with the kit you downloaded. How are they named? What kind of information do they hold? Will they help us make this graph?"
   ]
  },
  {
   "cell_type": "code",
   "execution_count": 184,
   "metadata": {},
   "outputs": [
    {
     "name": "stdout",
     "output_type": "stream",
     "text": [
      "<bound method NDFrame.head of    Unnamed: 0       State  TotalPop Hispanic   White   Black  Native   Asian  \\\n",
      "0           0     Alabama   4830620    3.75%  61.88%  31.25%   0.45%   1.05%   \n",
      "1           1      Alaska    733375    5.91%  60.91%   2.85%  16.39%   5.45%   \n",
      "2           2     Arizona   6641928   29.57%  57.12%   3.85%   4.36%   2.88%   \n",
      "3           3    Arkansas   2958208    6.22%  71.14%  18.97%   0.52%   1.14%   \n",
      "4           4  California  38421464   37.29%  40.22%   5.68%   0.41%  13.05%   \n",
      "5           5    Colorado   5278906   20.78%  69.90%   3.55%   0.57%   2.66%   \n",
      "\n",
      "  Pacific       Income            GenderPop  \n",
      "0   0.03%  $43,296.36     2341093M_2489527F  \n",
      "1   1.06%  $70,354.74       384160M_349215F  \n",
      "2   0.17%  $54,207.82     3299088M_3342840F  \n",
      "3   0.15%  $41,935.63     1451913M_1506295F  \n",
      "4   0.35%  $67,264.78   19087135M_19334329F  \n",
      "5     NaN  $64,657.80     2648667M_2630239F  >\n"
     ]
    }
   ],
   "source": [
    "import pandas as pd\n",
    "\n",
    "state = pd.read_csv(r'C:\\Users\\17819\\Downloads\\states0.csv')\n",
    "print(state.head)"
   ]
  },
  {
   "cell_type": "markdown",
   "metadata": {},
   "source": [
    "2. It will be easier to inspect this data once we have it in a DataFrame. You can't even call `.head()` on these `csv`s! How are you supposed to read them?\n",
    "\n",
    "   Using `glob`, loop through the census files available and load them into DataFrames. Then, concatenate all of those DataFrames together into one DataFrame, called something like `us_census`."
   ]
  },
  {
   "cell_type": "code",
   "execution_count": 185,
   "metadata": {},
   "outputs": [],
   "source": [
    "import numpy as np\n",
    "import matplotlib.pyplot as plt\n",
    "import glob\n",
    "\n",
    "us_census_files = glob.glob(r'C:\\Users\\17819\\Downloads\\states*.csv')\n",
    "list = []\n",
    "for filename in us_census_files:\n",
    "    data = pd.read_csv(filename)\n",
    "    list.append(data)\n",
    "\n",
    "us_census = pd.concat(list)\n"
   ]
  },
  {
   "cell_type": "markdown",
   "metadata": {},
   "source": [
    "3. Look at the `.columns` and the `.dtypes` of the `us_census` DataFrame. Are those datatypes going to hinder you as you try to make histograms?"
   ]
  },
  {
   "cell_type": "code",
   "execution_count": 186,
   "metadata": {},
   "outputs": [
    {
     "name": "stdout",
     "output_type": "stream",
     "text": [
      "Index(['Unnamed: 0', 'State', 'TotalPop', 'Hispanic', 'White', 'Black',\n",
      "       'Native', 'Asian', 'Pacific', 'Income', 'GenderPop'],\n",
      "      dtype='object')\n",
      "Unnamed: 0     int64\n",
      "State         object\n",
      "TotalPop       int64\n",
      "Hispanic      object\n",
      "White         object\n",
      "Black         object\n",
      "Native        object\n",
      "Asian         object\n",
      "Pacific       object\n",
      "Income        object\n",
      "GenderPop     object\n",
      "dtype: object\n"
     ]
    }
   ],
   "source": [
    "print(us_census.columns)\n",
    "print(us_census.dtypes)\n",
    "## The populations, income are listed as objects. We will want those to be floats. We will also want to \n",
    "## split up the Gender pop by gender and make a total population to verify number. Along with making integers instead of obj"
   ]
  },
  {
   "cell_type": "markdown",
   "metadata": {},
   "source": [
    "4. Look at the `head()` of the DataFrame so that you can understand why some of these `dtypes` are objects instead of integers or floats.\n",
    "\n",
    "   Start to make a plan for how to convert these columns into the right types for manipulation."
   ]
  },
  {
   "cell_type": "code",
   "execution_count": 187,
   "metadata": {},
   "outputs": [
    {
     "data": {
      "text/html": [
       "<div>\n",
       "<style scoped>\n",
       "    .dataframe tbody tr th:only-of-type {\n",
       "        vertical-align: middle;\n",
       "    }\n",
       "\n",
       "    .dataframe tbody tr th {\n",
       "        vertical-align: top;\n",
       "    }\n",
       "\n",
       "    .dataframe thead th {\n",
       "        text-align: right;\n",
       "    }\n",
       "</style>\n",
       "<table border=\"1\" class=\"dataframe\">\n",
       "  <thead>\n",
       "    <tr style=\"text-align: right;\">\n",
       "      <th></th>\n",
       "      <th>Unnamed: 0</th>\n",
       "      <th>State</th>\n",
       "      <th>TotalPop</th>\n",
       "      <th>Hispanic</th>\n",
       "      <th>White</th>\n",
       "      <th>Black</th>\n",
       "      <th>Native</th>\n",
       "      <th>Asian</th>\n",
       "      <th>Pacific</th>\n",
       "      <th>Income</th>\n",
       "      <th>GenderPop</th>\n",
       "    </tr>\n",
       "  </thead>\n",
       "  <tbody>\n",
       "    <tr>\n",
       "      <th>0</th>\n",
       "      <td>0</td>\n",
       "      <td>Alabama</td>\n",
       "      <td>4830620</td>\n",
       "      <td>3.75%</td>\n",
       "      <td>61.88%</td>\n",
       "      <td>31.25%</td>\n",
       "      <td>0.45%</td>\n",
       "      <td>1.05%</td>\n",
       "      <td>0.03%</td>\n",
       "      <td>$43,296.36</td>\n",
       "      <td>2341093M_2489527F</td>\n",
       "    </tr>\n",
       "    <tr>\n",
       "      <th>1</th>\n",
       "      <td>1</td>\n",
       "      <td>Alaska</td>\n",
       "      <td>733375</td>\n",
       "      <td>5.91%</td>\n",
       "      <td>60.91%</td>\n",
       "      <td>2.85%</td>\n",
       "      <td>16.39%</td>\n",
       "      <td>5.45%</td>\n",
       "      <td>1.06%</td>\n",
       "      <td>$70,354.74</td>\n",
       "      <td>384160M_349215F</td>\n",
       "    </tr>\n",
       "    <tr>\n",
       "      <th>2</th>\n",
       "      <td>2</td>\n",
       "      <td>Arizona</td>\n",
       "      <td>6641928</td>\n",
       "      <td>29.57%</td>\n",
       "      <td>57.12%</td>\n",
       "      <td>3.85%</td>\n",
       "      <td>4.36%</td>\n",
       "      <td>2.88%</td>\n",
       "      <td>0.17%</td>\n",
       "      <td>$54,207.82</td>\n",
       "      <td>3299088M_3342840F</td>\n",
       "    </tr>\n",
       "    <tr>\n",
       "      <th>3</th>\n",
       "      <td>3</td>\n",
       "      <td>Arkansas</td>\n",
       "      <td>2958208</td>\n",
       "      <td>6.22%</td>\n",
       "      <td>71.14%</td>\n",
       "      <td>18.97%</td>\n",
       "      <td>0.52%</td>\n",
       "      <td>1.14%</td>\n",
       "      <td>0.15%</td>\n",
       "      <td>$41,935.63</td>\n",
       "      <td>1451913M_1506295F</td>\n",
       "    </tr>\n",
       "    <tr>\n",
       "      <th>4</th>\n",
       "      <td>4</td>\n",
       "      <td>California</td>\n",
       "      <td>38421464</td>\n",
       "      <td>37.29%</td>\n",
       "      <td>40.22%</td>\n",
       "      <td>5.68%</td>\n",
       "      <td>0.41%</td>\n",
       "      <td>13.05%</td>\n",
       "      <td>0.35%</td>\n",
       "      <td>$67,264.78</td>\n",
       "      <td>19087135M_19334329F</td>\n",
       "    </tr>\n",
       "  </tbody>\n",
       "</table>\n",
       "</div>"
      ],
      "text/plain": [
       "   Unnamed: 0       State  TotalPop Hispanic   White   Black  Native   Asian  \\\n",
       "0           0     Alabama   4830620    3.75%  61.88%  31.25%   0.45%   1.05%   \n",
       "1           1      Alaska    733375    5.91%  60.91%   2.85%  16.39%   5.45%   \n",
       "2           2     Arizona   6641928   29.57%  57.12%   3.85%   4.36%   2.88%   \n",
       "3           3    Arkansas   2958208    6.22%  71.14%  18.97%   0.52%   1.14%   \n",
       "4           4  California  38421464   37.29%  40.22%   5.68%   0.41%  13.05%   \n",
       "\n",
       "  Pacific       Income            GenderPop  \n",
       "0   0.03%  $43,296.36     2341093M_2489527F  \n",
       "1   1.06%  $70,354.74       384160M_349215F  \n",
       "2   0.17%  $54,207.82     3299088M_3342840F  \n",
       "3   0.15%  $41,935.63     1451913M_1506295F  \n",
       "4   0.35%  $67,264.78   19087135M_19334329F  "
      ]
     },
     "execution_count": 187,
     "metadata": {},
     "output_type": "execute_result"
    }
   ],
   "source": [
    "us_census.head()"
   ]
  },
  {
   "cell_type": "markdown",
   "metadata": {},
   "source": [
    "## Regex to the Rescue"
   ]
  },
  {
   "cell_type": "markdown",
   "metadata": {},
   "source": [
    "5. Use regex to turn the `Income` column into a format that is ready for conversion into a numerical type."
   ]
  },
  {
   "cell_type": "code",
   "execution_count": 188,
   "metadata": {},
   "outputs": [
    {
     "name": "stdout",
     "output_type": "stream",
     "text": [
      "0    43296.36\n",
      "1    70354.74\n",
      "2    54207.82\n",
      "3    41935.63\n",
      "4    67264.78\n",
      "5    64657.80\n",
      "0    64657.80\n",
      "1    76146.56\n",
      "2    61827.98\n",
      "3    75466.36\n",
      "4    50690.19\n",
      "5    50811.08\n",
      "0    50811.08\n",
      "1    73264.43\n",
      "2    48017.32\n",
      "3    59587.05\n",
      "4    48616.23\n",
      "5    53017.75\n",
      "0    53017.75\n",
      "1    53885.61\n",
      "2    45285.80\n",
      "3    44957.99\n",
      "4    49181.97\n",
      "5    78765.40\n",
      "0    78765.40\n",
      "1    72838.94\n",
      "2    51201.83\n",
      "3    62820.83\n",
      "4    38909.92\n",
      "5    49763.99\n",
      "0    49763.99\n",
      "1    47645.68\n",
      "2    55916.47\n",
      "3    55526.53\n",
      "4    68728.86\n",
      "5    76581.08\n",
      "0    76581.08\n",
      "1    47329.97\n",
      "2    64290.75\n",
      "3    49937.46\n",
      "4    58188.11\n",
      "5    49655.25\n",
      "0    49655.25\n",
      "1    48100.85\n",
      "2    54271.90\n",
      "3    56170.46\n",
      "4    20720.54\n",
      "5    59125.27\n",
      "0    59125.27\n",
      "1    46296.81\n",
      "2    51805.41\n",
      "3    47328.08\n",
      "4    55874.52\n",
      "5    63488.92\n",
      "0    63488.92\n",
      "1    55602.97\n",
      "2    72866.01\n",
      "3    64493.77\n",
      "4    41437.11\n",
      "5    53898.89\n",
      "Name: Income, dtype: float64\n",
      "Unnamed: 0      int64\n",
      "State          object\n",
      "TotalPop        int64\n",
      "Hispanic       object\n",
      "White          object\n",
      "Black          object\n",
      "Native         object\n",
      "Asian          object\n",
      "Pacific        object\n",
      "Income        float64\n",
      "GenderPop      object\n",
      "dtype: object\n"
     ]
    }
   ],
   "source": [
    "us_census.Income = us_census.Income.replace('[\\$,]','', regex = True)\n",
    "us_census.Income = pd.to_numeric(us_census.Income)\n",
    "print(us_census.Income)\n",
    "print(us_census.dtypes)"
   ]
  },
  {
   "cell_type": "markdown",
   "metadata": {},
   "source": [
    "6. Look at the `GenderPop` column. We are going to want to separate this into two columns, the `Men` column, and the `Women` column.\n",
    "\n",
    "   Split the column into those two new columns using `str.split` and separating out those results."
   ]
  },
  {
   "cell_type": "code",
   "execution_count": 192,
   "metadata": {},
   "outputs": [
    {
     "data": {
      "text/html": [
       "<div>\n",
       "<style scoped>\n",
       "    .dataframe tbody tr th:only-of-type {\n",
       "        vertical-align: middle;\n",
       "    }\n",
       "\n",
       "    .dataframe tbody tr th {\n",
       "        vertical-align: top;\n",
       "    }\n",
       "\n",
       "    .dataframe thead th {\n",
       "        text-align: right;\n",
       "    }\n",
       "</style>\n",
       "<table border=\"1\" class=\"dataframe\">\n",
       "  <thead>\n",
       "    <tr style=\"text-align: right;\">\n",
       "      <th></th>\n",
       "      <th>Unnamed: 0</th>\n",
       "      <th>State</th>\n",
       "      <th>TotalPop</th>\n",
       "      <th>Hispanic</th>\n",
       "      <th>White</th>\n",
       "      <th>Black</th>\n",
       "      <th>Native</th>\n",
       "      <th>Asian</th>\n",
       "      <th>Pacific</th>\n",
       "      <th>Income</th>\n",
       "      <th>Men</th>\n",
       "      <th>Women</th>\n",
       "    </tr>\n",
       "  </thead>\n",
       "  <tbody>\n",
       "    <tr>\n",
       "      <th>0</th>\n",
       "      <td>0</td>\n",
       "      <td>Alabama</td>\n",
       "      <td>4830620</td>\n",
       "      <td>3.75%</td>\n",
       "      <td>61.88%</td>\n",
       "      <td>31.25%</td>\n",
       "      <td>0.45%</td>\n",
       "      <td>1.05%</td>\n",
       "      <td>0.03%</td>\n",
       "      <td>43296.36</td>\n",
       "      <td>2341093</td>\n",
       "      <td>2489527.0</td>\n",
       "    </tr>\n",
       "    <tr>\n",
       "      <th>1</th>\n",
       "      <td>1</td>\n",
       "      <td>Alaska</td>\n",
       "      <td>733375</td>\n",
       "      <td>5.91%</td>\n",
       "      <td>60.91%</td>\n",
       "      <td>2.85%</td>\n",
       "      <td>16.39%</td>\n",
       "      <td>5.45%</td>\n",
       "      <td>1.06%</td>\n",
       "      <td>70354.74</td>\n",
       "      <td>384160</td>\n",
       "      <td>349215.0</td>\n",
       "    </tr>\n",
       "    <tr>\n",
       "      <th>2</th>\n",
       "      <td>2</td>\n",
       "      <td>Arizona</td>\n",
       "      <td>6641928</td>\n",
       "      <td>29.57%</td>\n",
       "      <td>57.12%</td>\n",
       "      <td>3.85%</td>\n",
       "      <td>4.36%</td>\n",
       "      <td>2.88%</td>\n",
       "      <td>0.17%</td>\n",
       "      <td>54207.82</td>\n",
       "      <td>3299088</td>\n",
       "      <td>3342840.0</td>\n",
       "    </tr>\n",
       "    <tr>\n",
       "      <th>3</th>\n",
       "      <td>3</td>\n",
       "      <td>Arkansas</td>\n",
       "      <td>2958208</td>\n",
       "      <td>6.22%</td>\n",
       "      <td>71.14%</td>\n",
       "      <td>18.97%</td>\n",
       "      <td>0.52%</td>\n",
       "      <td>1.14%</td>\n",
       "      <td>0.15%</td>\n",
       "      <td>41935.63</td>\n",
       "      <td>1451913</td>\n",
       "      <td>1506295.0</td>\n",
       "    </tr>\n",
       "    <tr>\n",
       "      <th>4</th>\n",
       "      <td>4</td>\n",
       "      <td>California</td>\n",
       "      <td>38421464</td>\n",
       "      <td>37.29%</td>\n",
       "      <td>40.22%</td>\n",
       "      <td>5.68%</td>\n",
       "      <td>0.41%</td>\n",
       "      <td>13.05%</td>\n",
       "      <td>0.35%</td>\n",
       "      <td>67264.78</td>\n",
       "      <td>19087135</td>\n",
       "      <td>19334329.0</td>\n",
       "    </tr>\n",
       "  </tbody>\n",
       "</table>\n",
       "</div>"
      ],
      "text/plain": [
       "   Unnamed: 0       State  TotalPop Hispanic   White   Black  Native   Asian  \\\n",
       "0           0     Alabama   4830620    3.75%  61.88%  31.25%   0.45%   1.05%   \n",
       "1           1      Alaska    733375    5.91%  60.91%   2.85%  16.39%   5.45%   \n",
       "2           2     Arizona   6641928   29.57%  57.12%   3.85%   4.36%   2.88%   \n",
       "3           3    Arkansas   2958208    6.22%  71.14%  18.97%   0.52%   1.14%   \n",
       "4           4  California  38421464   37.29%  40.22%   5.68%   0.41%  13.05%   \n",
       "\n",
       "  Pacific    Income       Men       Women  \n",
       "0   0.03%  43296.36   2341093   2489527.0  \n",
       "1   1.06%  70354.74    384160    349215.0  \n",
       "2   0.17%  54207.82   3299088   3342840.0  \n",
       "3   0.15%  41935.63   1451913   1506295.0  \n",
       "4   0.35%  67264.78  19087135  19334329.0  "
      ]
     },
     "execution_count": 192,
     "metadata": {},
     "output_type": "execute_result"
    }
   ],
   "source": [
    "gender = us_census.GenderPop.str.split('_', expand = True)\n",
    "Men_num = gender[0].replace('M', '', regex = True)\n",
    "Fem_num = gender[1].replace('F', '', regex = True)\n",
    "us_census['Men'] = pd.to_numeric(Men_num)\n",
    "us_census['Women'] = pd.to_numeric(Fem_num)\n",
    "us_census = us_census.drop('GenderPop', axis = 1)\n",
    "us_census.head()\n"
   ]
  },
  {
   "cell_type": "markdown",
   "metadata": {},
   "source": [
    "7. Convert both of the columns into numerical datatypes.\n",
    "\n",
    "   There is still an `M` or an `F` character in each entry! We should remove those before we convert."
   ]
  },
  {
   "cell_type": "code",
   "execution_count": 193,
   "metadata": {},
   "outputs": [
    {
     "data": {
      "text/html": [
       "<div>\n",
       "<style scoped>\n",
       "    .dataframe tbody tr th:only-of-type {\n",
       "        vertical-align: middle;\n",
       "    }\n",
       "\n",
       "    .dataframe tbody tr th {\n",
       "        vertical-align: top;\n",
       "    }\n",
       "\n",
       "    .dataframe thead th {\n",
       "        text-align: right;\n",
       "    }\n",
       "</style>\n",
       "<table border=\"1\" class=\"dataframe\">\n",
       "  <thead>\n",
       "    <tr style=\"text-align: right;\">\n",
       "      <th></th>\n",
       "      <th>Unnamed: 0</th>\n",
       "      <th>State</th>\n",
       "      <th>TotalPop</th>\n",
       "      <th>Hispanic</th>\n",
       "      <th>White</th>\n",
       "      <th>Black</th>\n",
       "      <th>Native</th>\n",
       "      <th>Asian</th>\n",
       "      <th>Pacific</th>\n",
       "      <th>Income</th>\n",
       "      <th>Men</th>\n",
       "      <th>Women</th>\n",
       "    </tr>\n",
       "  </thead>\n",
       "  <tbody>\n",
       "    <tr>\n",
       "      <th>0</th>\n",
       "      <td>0</td>\n",
       "      <td>Alabama</td>\n",
       "      <td>4830620</td>\n",
       "      <td>3.75%</td>\n",
       "      <td>61.88%</td>\n",
       "      <td>31.25%</td>\n",
       "      <td>0.45%</td>\n",
       "      <td>1.05%</td>\n",
       "      <td>0.03%</td>\n",
       "      <td>43296.36</td>\n",
       "      <td>2341093</td>\n",
       "      <td>2489527.0</td>\n",
       "    </tr>\n",
       "    <tr>\n",
       "      <th>1</th>\n",
       "      <td>1</td>\n",
       "      <td>Alaska</td>\n",
       "      <td>733375</td>\n",
       "      <td>5.91%</td>\n",
       "      <td>60.91%</td>\n",
       "      <td>2.85%</td>\n",
       "      <td>16.39%</td>\n",
       "      <td>5.45%</td>\n",
       "      <td>1.06%</td>\n",
       "      <td>70354.74</td>\n",
       "      <td>384160</td>\n",
       "      <td>349215.0</td>\n",
       "    </tr>\n",
       "    <tr>\n",
       "      <th>2</th>\n",
       "      <td>2</td>\n",
       "      <td>Arizona</td>\n",
       "      <td>6641928</td>\n",
       "      <td>29.57%</td>\n",
       "      <td>57.12%</td>\n",
       "      <td>3.85%</td>\n",
       "      <td>4.36%</td>\n",
       "      <td>2.88%</td>\n",
       "      <td>0.17%</td>\n",
       "      <td>54207.82</td>\n",
       "      <td>3299088</td>\n",
       "      <td>3342840.0</td>\n",
       "    </tr>\n",
       "    <tr>\n",
       "      <th>3</th>\n",
       "      <td>3</td>\n",
       "      <td>Arkansas</td>\n",
       "      <td>2958208</td>\n",
       "      <td>6.22%</td>\n",
       "      <td>71.14%</td>\n",
       "      <td>18.97%</td>\n",
       "      <td>0.52%</td>\n",
       "      <td>1.14%</td>\n",
       "      <td>0.15%</td>\n",
       "      <td>41935.63</td>\n",
       "      <td>1451913</td>\n",
       "      <td>1506295.0</td>\n",
       "    </tr>\n",
       "    <tr>\n",
       "      <th>4</th>\n",
       "      <td>4</td>\n",
       "      <td>California</td>\n",
       "      <td>38421464</td>\n",
       "      <td>37.29%</td>\n",
       "      <td>40.22%</td>\n",
       "      <td>5.68%</td>\n",
       "      <td>0.41%</td>\n",
       "      <td>13.05%</td>\n",
       "      <td>0.35%</td>\n",
       "      <td>67264.78</td>\n",
       "      <td>19087135</td>\n",
       "      <td>19334329.0</td>\n",
       "    </tr>\n",
       "  </tbody>\n",
       "</table>\n",
       "</div>"
      ],
      "text/plain": [
       "   Unnamed: 0       State  TotalPop Hispanic   White   Black  Native   Asian  \\\n",
       "0           0     Alabama   4830620    3.75%  61.88%  31.25%   0.45%   1.05%   \n",
       "1           1      Alaska    733375    5.91%  60.91%   2.85%  16.39%   5.45%   \n",
       "2           2     Arizona   6641928   29.57%  57.12%   3.85%   4.36%   2.88%   \n",
       "3           3    Arkansas   2958208    6.22%  71.14%  18.97%   0.52%   1.14%   \n",
       "4           4  California  38421464   37.29%  40.22%   5.68%   0.41%  13.05%   \n",
       "\n",
       "  Pacific    Income       Men       Women  \n",
       "0   0.03%  43296.36   2341093   2489527.0  \n",
       "1   1.06%  70354.74    384160    349215.0  \n",
       "2   0.17%  54207.82   3299088   3342840.0  \n",
       "3   0.15%  41935.63   1451913   1506295.0  \n",
       "4   0.35%  67264.78  19087135  19334329.0  "
      ]
     },
     "execution_count": 193,
     "metadata": {},
     "output_type": "execute_result"
    }
   ],
   "source": [
    "us_census.head()"
   ]
  },
  {
   "cell_type": "markdown",
   "metadata": {},
   "source": [
    "8. Now you should have the columns you need to make the graph and make sure your boss does not slam a ruler angrily on your desk because you've wasted your whole day cleaning your data with no results to show!\n",
    "\n",
    "   Use matplotlib to make a scatterplot!\n",
    "   \n",
    "   ```py\n",
    "   plt.scatter(the_women_column, the_income_column)\n",
    "   ```\n",
    "   \n",
    "   Remember to call `plt.show()` to see the graph!"
   ]
  },
  {
   "cell_type": "code",
   "execution_count": 194,
   "metadata": {},
   "outputs": [
    {
     "data": {
      "image/png": "[encoded data removed]",
      "text/plain": [
       "<Figure size 432x288 with 1 Axes>"
      ]
     },
     "metadata": {
      "needs_background": "light"
     },
     "output_type": "display_data"
    }
   ],
   "source": [
    "plt.scatter(us_census.Women, us_census.Income)\n",
    "plt.xlabel('Female Population')\n",
    "plt.ylabel('Income')\n",
    "plt.show()"
   ]
  },
  {
   "cell_type": "markdown",
   "metadata": {},
   "source": [
    "9. You want to double check your work. You know from experience that these monstrous csv files probably have `nan` values in them! Print out your column with the number of women per state to see.\n",
    "\n",
    "   We can fill in those `nan`s by using pandas' `.fillna()` function.\n",
    "   \n",
    "   You have the `TotalPop` per state, and you have the `Men` per state. As an estimate for the `nan` values in the `Women` column, you could use the `TotalPop` of that state minus the `Men` for that state.\n",
    "   \n",
    "   Print out the `Women` column after filling the `nan` values to see if it worked!"
   ]
  },
  {
   "cell_type": "code",
   "execution_count": 195,
   "metadata": {},
   "outputs": [
    {
     "name": "stdout",
     "output_type": "stream",
     "text": [
      "0     2489527.0\n",
      "1      349215.0\n",
      "2     3342840.0\n",
      "3     1506295.0\n",
      "4    19334329.0\n",
      "5     2630239.0\n",
      "0     2630239.0\n",
      "1     1841615.0\n",
      "2      478041.0\n",
      "3      340810.0\n",
      "4    10045763.0\n",
      "5     5123362.0\n",
      "0     5123362.0\n",
      "1      696428.0\n",
      "2      806083.0\n",
      "3     6556862.0\n",
      "4     3333382.0\n",
      "5     1558931.0\n",
      "0     1558931.0\n",
      "1     1453125.0\n",
      "2     2233145.0\n",
      "3     2364097.0\n",
      "4      679019.0\n",
      "5           NaN\n",
      "0           NaN\n",
      "1     3455936.0\n",
      "2     5038598.0\n",
      "3     2727005.0\n",
      "4     1536358.0\n",
      "5     3081445.0\n",
      "0     3081445.0\n",
      "1           NaN\n",
      "2      939759.0\n",
      "3     1390901.0\n",
      "4      670717.0\n",
      "5     4561386.0\n",
      "0     4561386.0\n",
      "1     1051703.0\n",
      "2    10131373.0\n",
      "3     5049925.0\n",
      "4      353677.0\n",
      "5     5913084.0\n",
      "0     5913084.0\n",
      "1     1942789.0\n",
      "2     1990780.0\n",
      "3     6534215.0\n",
      "4     1869213.0\n",
      "5      543273.0\n",
      "0      543273.0\n",
      "1     2455167.0\n",
      "2      419713.0\n",
      "3     3331859.0\n",
      "4    13367298.0\n",
      "5     1444150.0\n",
      "0     1444150.0\n",
      "1      318031.0\n",
      "2     4195682.0\n",
      "3     3497739.0\n",
      "4      937789.0\n",
      "5     2890732.0\n",
      "Name: Women, dtype: float64\n",
      "count    6.000000e+01\n",
      "mean     3.171327e+06\n",
      "std      3.338251e+06\n",
      "min      3.180310e+05\n",
      "25%      1.023717e+06\n",
      "50%      2.409632e+06\n",
      "75%      3.672225e+06\n",
      "max      1.933433e+07\n",
      "Name: Women, dtype: float64\n",
      "0     2489527.0\n",
      "1      349215.0\n",
      "2     3342840.0\n",
      "3     1506295.0\n",
      "4    19334329.0\n",
      "5     2630239.0\n",
      "0     2630239.0\n",
      "1     1841615.0\n",
      "2      478041.0\n",
      "3      340810.0\n",
      "4    10045763.0\n",
      "5     5123362.0\n",
      "0     5123362.0\n",
      "1      696428.0\n",
      "2      806083.0\n",
      "3     6556862.0\n",
      "4     3333382.0\n",
      "5     1558931.0\n",
      "0     1558931.0\n",
      "1     1453125.0\n",
      "2     2233145.0\n",
      "3     2364097.0\n",
      "4      679019.0\n",
      "5     3057895.0\n",
      "0     3057895.0\n",
      "1     3455936.0\n",
      "2     5038598.0\n",
      "3     2727005.0\n",
      "4     1536358.0\n",
      "5     3081445.0\n",
      "0     3081445.0\n",
      "1      504536.0\n",
      "2      939759.0\n",
      "3     1390901.0\n",
      "4      670717.0\n",
      "5     4561386.0\n",
      "0     4561386.0\n",
      "1     1051703.0\n",
      "2    10131373.0\n",
      "3     5049925.0\n",
      "4      353677.0\n",
      "5     5913084.0\n",
      "0     5913084.0\n",
      "1     1942789.0\n",
      "2     1990780.0\n",
      "3     6534215.0\n",
      "4     1869213.0\n",
      "5      543273.0\n",
      "0      543273.0\n",
      "1     2455167.0\n",
      "2      419713.0\n",
      "3     3331859.0\n",
      "4    13367298.0\n",
      "5     1444150.0\n",
      "0     1444150.0\n",
      "1      318031.0\n",
      "2     4195682.0\n",
      "3     3497739.0\n",
      "4      937789.0\n",
      "5     2890732.0\n",
      "Name: Women, dtype: float64\n"
     ]
    }
   ],
   "source": [
    "print(us_census.Women)\n",
    "us_census = us_census.fillna(value = {'Women': us_census.TotalPop - us_census.Men})\n",
    "print(us_census.Women.describe())\n",
    "print(us_census.Women)"
   ]
  },
  {
   "cell_type": "markdown",
   "metadata": {},
   "source": [
    "10. We forgot to check for duplicates! Use `.duplicated()` on your `census` DataFrame to see if we have duplicate rows in there."
   ]
  },
  {
   "cell_type": "code",
   "execution_count": 196,
   "metadata": {},
   "outputs": [
    {
     "name": "stdout",
     "output_type": "stream",
     "text": [
      "0    False\n",
      "1    False\n",
      "2    False\n",
      "3    False\n",
      "4    False\n",
      "5    False\n",
      "0     True\n",
      "1    False\n",
      "2    False\n",
      "3    False\n",
      "4    False\n",
      "5    False\n",
      "0     True\n",
      "1    False\n",
      "2    False\n",
      "3    False\n",
      "4    False\n",
      "5    False\n",
      "0     True\n",
      "1    False\n",
      "2    False\n",
      "3    False\n",
      "4    False\n",
      "5    False\n",
      "0     True\n",
      "1    False\n",
      "2    False\n",
      "3    False\n",
      "4    False\n",
      "5    False\n",
      "0     True\n",
      "1    False\n",
      "2    False\n",
      "3    False\n",
      "4    False\n",
      "5    False\n",
      "0     True\n",
      "1    False\n",
      "2    False\n",
      "3    False\n",
      "4    False\n",
      "5    False\n",
      "0     True\n",
      "1    False\n",
      "2    False\n",
      "3    False\n",
      "4    False\n",
      "5    False\n",
      "0     True\n",
      "1    False\n",
      "2    False\n",
      "3    False\n",
      "4    False\n",
      "5    False\n",
      "0     True\n",
      "1    False\n",
      "2    False\n",
      "3    False\n",
      "4    False\n",
      "5    False\n",
      "dtype: bool\n"
     ]
    }
   ],
   "source": [
    "census = us_census.duplicated(subset =us_census.columns[1:])\n",
    "print(census)"
   ]
  },
  {
   "cell_type": "markdown",
   "metadata": {},
   "source": [
    "11. Drop those duplicates using the `.drop_duplicates()` function."
   ]
  },
  {
   "cell_type": "code",
   "execution_count": 197,
   "metadata": {},
   "outputs": [
    {
     "name": "stdout",
     "output_type": "stream",
     "text": [
      "       Unnamed: 0      TotalPop        Income           Men         Women\n",
      "count   60.000000  6.000000e+01     60.000000  6.000000e+01  6.000000e+01\n",
      "mean     2.500000  6.238516e+06  56632.042833  3.067189e+06  3.171327e+06\n",
      "std      1.722237  6.588488e+06  11470.953879  3.250785e+06  3.338251e+06\n",
      "min      0.000000  6.266040e+05  20720.540000  3.066740e+05  3.180310e+05\n",
      "25%      1.000000  2.030429e+06  49536.930000  1.006712e+06  1.023717e+06\n",
      "50%      2.500000  4.701414e+06  54239.860000  2.291782e+06  2.409632e+06\n",
      "75%      4.000000  7.303256e+06  64341.505000  3.631031e+06  3.672225e+06\n",
      "max      5.000000  3.842146e+07  78765.400000  1.908714e+07  1.933433e+07\n",
      "       Unnamed: 0      TotalPop        Income           Men         Women\n",
      "count   51.000000  5.100000e+01     51.000000  5.100000e+01  5.100000e+01\n",
      "mean     2.941176  6.265067e+06  55922.667255  3.081423e+06  3.183644e+06\n",
      "std      1.475287  7.017552e+06  11479.923759  3.464446e+06  3.553646e+06\n",
      "min      0.000000  6.266040e+05  20720.540000  3.066740e+05  3.180310e+05\n",
      "25%      2.000000  1.860392e+06  48358.540000  9.216185e+05  9.387740e+05\n",
      "50%      3.000000  4.397353e+06  54207.820000  2.164208e+06  2.233145e+06\n",
      "75%      4.000000  6.845525e+06  63889.835000  3.393406e+06  3.476838e+06\n",
      "max      5.000000  3.842146e+07  78765.400000  1.908714e+07  1.933433e+07\n"
     ]
    }
   ],
   "source": [
    "print(us_census.describe())\n",
    "us_census = us_census.drop_duplicates(subset = us_census.columns[1:])\n",
    "print(us_census.describe())"
   ]
  },
  {
   "cell_type": "markdown",
   "metadata": {},
   "source": [
    "12. Make the scatterplot again. Now, it should be perfect! Your job is secure, for now."
   ]
  },
  {
   "cell_type": "code",
   "execution_count": 198,
   "metadata": {},
   "outputs": [
    {
     "data": {
      "image/png": "[encoded data removed]",
      "text/plain": [
       "<Figure size 432x288 with 1 Axes>"
      ]
     },
     "metadata": {
      "needs_background": "light"
     },
     "output_type": "display_data"
    }
   ],
   "source": [
    "plt.scatter(us_census.Women, us_census.Income)\n",
    "plt.xlabel('Female Population')\n",
    "plt.ylabel('Income')\n",
    "plt.show()"
   ]
  },
  {
   "cell_type": "markdown",
   "metadata": {},
   "source": [
    "## Histogram of Races"
   ]
  },
  {
   "cell_type": "markdown",
   "metadata": {},
   "source": [
    "13. Now your boss wants you to make a bunch of histograms out of the race data that you have. Look at the `.columns` again to see what the race categories are."
   ]
  },
  {
   "cell_type": "code",
   "execution_count": 199,
   "metadata": {},
   "outputs": [
    {
     "name": "stdout",
     "output_type": "stream",
     "text": [
      "Unnamed: 0      int64\n",
      "State          object\n",
      "TotalPop        int64\n",
      "Hispanic       object\n",
      "White          object\n",
      "Black          object\n",
      "Native         object\n",
      "Asian          object\n",
      "Pacific        object\n",
      "Income        float64\n",
      "Men             int64\n",
      "Women         float64\n",
      "dtype: object\n",
      "   Unnamed: 0    State  TotalPop  Hispanic  White  Black  Native  Asian  \\\n",
      "0           0  Alabama   4830620      3.75  61.88  31.25    0.45   1.05   \n",
      "1           1   Alaska    733375      5.91  60.91   2.85   16.39   5.45   \n",
      "2           2  Arizona   6641928     29.57  57.12   3.85    4.36   2.88   \n",
      "\n",
      "   Pacific    Income      Men      Women  \n",
      "0     0.03  43296.36  2341093  2489527.0  \n",
      "1     1.06  70354.74   384160   349215.0  \n",
      "2     0.17  54207.82  3299088  3342840.0  \n"
     ]
    }
   ],
   "source": [
    "\n",
    "print(us_census.dtypes)\n",
    "cols = ['Hispanic', 'White', 'Black', 'Native', 'Asian', 'Pacific']\n",
    "us_census[cols] = us_census[cols].replace('\\%','', regex = True)\n",
    "us_census[cols] = us_census[cols].apply(pd.to_numeric, errors='coerce', axis=1)\n",
    "print(us_census.head(3))"
   ]
  },
  {
   "cell_type": "markdown",
   "metadata": {},
   "source": [
    "14. Try to make a histogram for each one!\n",
    "\n",
    "    You will have to get the columns into the numerical format, and those percentage signs will have to go.\n",
    "    \n",
    "    Don't forget to fill the `nan` values with something that makes sense! You probably dropped the duplicate rows when making your last graph, but it couldn't hurt to check for duplicates again."
   ]
  },
  {
   "cell_type": "code",
   "execution_count": 200,
   "metadata": {},
   "outputs": [
    {
     "name": "stdout",
     "output_type": "stream",
     "text": [
      "Unnamed: 0      int64\n",
      "State          object\n",
      "TotalPop        int64\n",
      "Hispanic      float64\n",
      "White         float64\n",
      "Black         float64\n",
      "Native        float64\n",
      "Asian         float64\n",
      "Pacific       float64\n",
      "Income        float64\n",
      "Men             int64\n",
      "Women         float64\n",
      "dtype: object\n",
      "   Unnamed: 0                 State  TotalPop  Hispanic  White  Black  Native  \\\n",
      "0           0               Alabama   4830620      3.75  61.88  31.25    0.45   \n",
      "1           1                Alaska    733375      5.91  60.91   2.85   16.39   \n",
      "2           2               Arizona   6641928     29.57  57.12   3.85    4.36   \n",
      "3           3              Arkansas   2958208      6.22  71.14  18.97    0.52   \n",
      "4           4            California  38421464     37.29  40.22   5.68    0.41   \n",
      "5           5              Colorado   5278906     20.78  69.90   3.55    0.57   \n",
      "1           1           Connecticut   3593222     15.60  67.68  10.35    0.13   \n",
      "2           2              Delaware    926454      8.82  64.63  20.74    0.26   \n",
      "3           3  District of Columbia    647484      9.17  33.10  51.78    0.20   \n",
      "4           4               Florida  19645772     21.34  59.08  15.17    0.21   \n",
      "5           5               Georgia  10006693      8.42  54.29  32.09    0.19   \n",
      "1           1                Hawaii   1406299      9.19  25.03   2.05    0.14   \n",
      "2           2                 Idaho   1616547     11.51  83.14   0.57    1.47   \n",
      "3           3              Illinois  12873761     15.60  60.86  17.11    0.12   \n",
      "4           4               Indiana   6568645      6.54  78.43  11.19    0.19   \n",
      "5           5                  Iowa   3093526      5.30  87.72   3.26    0.29   \n",
      "1           1                Kansas   2892987     11.64  75.96   6.57    0.73   \n",
      "2           2              Kentucky   4397353      3.22  85.23   8.27    0.17   \n",
      "3           3             Louisiana   4625253      4.87  54.98  36.33    0.48   \n",
      "4           4                 Maine   1329100      1.43  93.71   1.13    0.79   \n",
      "5           5              Maryland   5930538      8.47  52.68  30.68    0.20   \n",
      "1           1         Massachusetts   6705586     11.46  73.04   6.83    0.13   \n",
      "2           2              Michigan   9900571      4.63  72.38  17.63    0.48   \n",
      "3           3             Minnesota   5419171      5.15  81.43   5.66    1.07   \n",
      "4           4           Mississippi   2988081      2.84  53.29  41.49    0.39   \n",
      "5           5              Missouri   6045448      4.04  77.51  14.12    0.36   \n",
      "1           1               Montana   1014699      3.27  86.42   0.43    7.06   \n",
      "2           2              Nebraska   1869365      9.20  81.14   4.96    0.86   \n",
      "3           3                Nevada   2798636     27.10  53.24   7.74    1.09   \n",
      "4           4         New Hampshire   1324201      3.32  91.32   1.23    0.14   \n",
      "5           5            New Jersey   8904413     18.75  56.49  14.39    0.12   \n",
      "1           1            New Mexico   2084117     45.28  40.70   1.76    9.25   \n",
      "2           2              New York  19673174     17.24  56.47  15.67    0.32   \n",
      "3           3        North Carolina   9845333      8.46  64.60  21.40    1.09   \n",
      "4           4          North Dakota    721640      2.83  87.45   1.28    5.65   \n",
      "5           5                  Ohio  11575977      3.67  75.90  16.21    0.17   \n",
      "1           1              Oklahoma   3849733     10.08  66.06   8.31    6.72   \n",
      "2           2                Oregon   3939233     11.44  78.40   1.73    1.00   \n",
      "3           3          Pennsylvania  12779559      6.13  77.38  11.63    0.12   \n",
      "4           4           Puerto Rico   3583073     98.89   0.77   0.09    0.00   \n",
      "5           5          Rhode Island   1053661     13.36  74.33   5.68    0.35   \n",
      "1           1        South Carolina   4777576      5.06  62.89  28.75    0.29   \n",
      "2           2          South Dakota    843190      3.24  82.50   1.42    9.42   \n",
      "3           3             Tennessee   6499615      4.72  73.49  18.28    0.23   \n",
      "4           4                 Texas  26538614     38.05  44.69  11.65    0.26   \n",
      "5           5                  Utah   2903379     13.47  79.41   1.02    1.08   \n",
      "1           1               Vermont    626604      1.61  93.98   0.98    0.30   \n",
      "2           2              Virginia   8256630      8.01  63.27  20.18    0.21   \n",
      "3           3            Washington   6985464     11.14  72.04   3.38    1.41   \n",
      "4           4         West Virginia   1851420      1.29  92.18   3.66    0.15   \n",
      "5           5             Wisconsin   5742117      6.68  79.86   8.20    0.95   \n",
      "\n",
      "   Asian  Pacific    Income       Men       Women  \n",
      "0   1.05     0.03  43296.36   2341093   2489527.0  \n",
      "1   5.45     1.06  70354.74    384160    349215.0  \n",
      "2   2.88     0.17  54207.82   3299088   3342840.0  \n",
      "3   1.14     0.15  41935.63   1451913   1506295.0  \n",
      "4  13.05     0.35  67264.78  19087135  19334329.0  \n",
      "5   2.66      NaN  64657.80   2648667   2630239.0  \n",
      "1   4.02     0.02  76146.56   1751607   1841615.0  \n",
      "2   3.27      NaN  61827.98    448413    478041.0  \n",
      "3   3.38     0.03  75466.36    306674    340810.0  \n",
      "4   2.28     0.05  50690.19   9600009  10045763.0  \n",
      "5   3.10     0.05  50811.08   4883331   5123362.0  \n",
      "1  36.59     8.76  73264.43    709871    696428.0  \n",
      "2   1.14     0.13  48017.32    810464    806083.0  \n",
      "3   4.48     0.02  59587.05   6316899   6556862.0  \n",
      "4   1.58     0.03  48616.23   3235263   3333382.0  \n",
      "5   1.70     0.06  53017.75   1534595   1558931.0  \n",
      "1   2.33      NaN  53885.61   1439862   1453125.0  \n",
      "2   1.13     0.05  45285.80   2164208   2233145.0  \n",
      "3   1.67     0.04  44957.99   2261156   2364097.0  \n",
      "4   0.97     0.02  49181.97    650081    679019.0  \n",
      "5   5.33     0.04  78765.40   2872643   3057895.0  \n",
      "1   5.84     0.02  72838.94   3249650   3455936.0  \n",
      "2   2.42     0.02  51201.83   4861973   5038598.0  \n",
      "3   4.16     0.03  62820.83   2692166   2727005.0  \n",
      "4   0.88     0.02  38909.92   1451723   1536358.0  \n",
      "5   1.62     0.10  49763.99   2964003   3081445.0  \n",
      "1   0.57     0.07  47645.68    510163    504536.0  \n",
      "2   1.86     0.06  55916.47    929606    939759.0  \n",
      "3   7.10     0.57  55526.53   1407735   1390901.0  \n",
      "4   2.19     0.02  68728.86    653484    670717.0  \n",
      "5   8.16     0.03  76581.08   4343027   4561386.0  \n",
      "1   1.23     0.04  47329.97   1032414   1051703.0  \n",
      "2   7.90     0.02  64290.75   9541801  10131373.0  \n",
      "3   2.32     0.05  49937.46   4795408   5049925.0  \n",
      "4   0.96      NaN  58188.11    367963    353677.0  \n",
      "5   1.62     0.02  49655.25   5662893   5913084.0  \n",
      "1   1.80     0.11  48100.85   1906944   1942789.0  \n",
      "2   3.59     0.35  54271.90   1948453   1990780.0  \n",
      "3   2.80     0.02  56170.46   6245344   6534215.0  \n",
      "4   0.08     0.00  20720.54   1713860   1869213.0  \n",
      "5   3.25     0.04  59125.27    510388    543273.0  \n",
      "1   1.25     0.05  46296.81   2322409   2455167.0  \n",
      "2   1.02     0.04  51805.41    423477    419713.0  \n",
      "3   1.41     0.04  47328.08   3167756   3331859.0  \n",
      "4   3.67     0.07  55874.52  13171316  13367298.0  \n",
      "5   2.20     0.83  63488.92   1459229   1444150.0  \n",
      "1   1.24     0.03  55602.97    308573    318031.0  \n",
      "2   5.46     0.06  72866.01   4060948   4195682.0  \n",
      "3   7.02     0.61  64493.77   3487725   3497739.0  \n",
      "4   0.68     0.03  41437.11    913631    937789.0  \n",
      "5   2.40     0.02  53898.89   2851385   2890732.0  \n"
     ]
    },
    {
     "data": {
      "image/png": "[encoded data removed]",
      "text/plain": [
       "<Figure size 432x288 with 1 Axes>"
      ]
     },
     "metadata": {
      "needs_background": "light"
     },
     "output_type": "display_data"
    },
    {
     "data": {
      "image/png": "[encoded data removed]",
      "text/plain": [
       "<Figure size 432x288 with 1 Axes>"
      ]
     },
     "metadata": {
      "needs_background": "light"
     },
     "output_type": "display_data"
    },
    {
     "data": {
      "image/png": "[encoded data removed]",
      "text/plain": [
       "<Figure size 432x288 with 1 Axes>"
      ]
     },
     "metadata": {
      "needs_background": "light"
     },
     "output_type": "display_data"
    },
    {
     "data": {
      "image/png": "[encoded data removed]",
      "text/plain": [
       "<Figure size 432x288 with 1 Axes>"
      ]
     },
     "metadata": {
      "needs_background": "light"
     },
     "output_type": "display_data"
    },
    {
     "data": {
      "image/png": "[encoded data removed]",
      "text/plain": [
       "<Figure size 432x288 with 1 Axes>"
      ]
     },
     "metadata": {
      "needs_background": "light"
     },
     "output_type": "display_data"
    },
    {
     "data": {
      "image/png": "[encoded data removed]",
      "text/plain": [
       "<Figure size 432x288 with 1 Axes>"
      ]
     },
     "metadata": {
      "needs_background": "light"
     },
     "output_type": "display_data"
    }
   ],
   "source": [
    "census = us_census.drop_duplicates(subset = us_census.columns[1:])\n",
    "print(us_census.dtypes)\n",
    "#census = us_census.duplicated(subset =['Hispanic', 'White', 'Black', 'Native', 'Asian', 'Pacific'])\n",
    "#df.fillna({'team':'Unknown', 'points': 0, 'assists': 'zero'}, inplace=True)\n",
    "us_census.Pacific = us_census.Pacific.fillna(100 - us_census['Hispanic'] - us_census['White'] - us_census['Black'] - us_census['Native'] - us_census['Asian'])\n",
    "print(census)\n",
    "\n",
    "cols = ['Hispanic', 'White', 'Black', 'Native', 'Asian', 'Pacific']\n",
    "for race in cols:\n",
    "    plt.hist(us_census[race])\n",
    "    plt.title('Histogram of the % of {} People per state'.format(race))\n",
    "    plt.ylabel('Frequency')\n",
    "    plt.xlabel('Percentage')\n",
    "    plt.show()\n",
    "    plt.clf"
   ]
  },
  {
   "cell_type": "markdown",
   "metadata": {},
   "source": []
  }
 ],
 "metadata": {
  "kernelspec": {
   "display_name": "Python 3 (ipykernel)",
   "language": "python",
   "name": "python3"
  },
  "language_info": {
   "codemirror_mode": {
    "name": "ipython",
    "version": 3
   },
   "file_extension": ".py",
   "mimetype": "text/x-python",
   "name": "python",
   "nbconvert_exporter": "python",
   "pygments_lexer": "ipython3",
   "version": "3.9.7"
  }
 },
 "nbformat": 4,
 "nbformat_minor": 2
}
